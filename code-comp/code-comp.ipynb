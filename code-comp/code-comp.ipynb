{
 "cells": [
  {
   "cell_type": "code",
   "execution_count": null,
   "metadata": {},
   "outputs": [],
   "source": [
    "%pylab inline\n",
    "import scipy.interpolate as spi\n",
    "import scipy.integrate as spint\n",
    "import scipy.signal as spsig\n",
    "import sys, os\n",
    "\n",
    "sys.path.insert(0, os.path.abspath('../Rayleigh'))\n",
    "\n",
    "import post_processing.rayleigh_diagnostics as rd\n",
    "import post_processing.reference_tools as rt\n",
    "import stelo.model_reader as mr"
   ]
  },
  {
   "cell_type": "code",
   "execution_count": null,
   "metadata": {},
   "outputs": [],
   "source": [
    "g0 = 1.414870\n",
    "length = 4e8\n",
    "q0 = 3.795720e-4\n",
    "gasconst = 8.314463e7\n",
    "ref_pres = 4.644481e23\n",
    "ref_density = 1.820940e6\n",
    "ref_grav = 6.376489e8"
   ]
  },
  {
   "cell_type": "code",
   "execution_count": null,
   "metadata": {},
   "outputs": [],
   "source": [
    "nr = 10000\n",
    "r0 = 1\n",
    "r1 = 3\n",
    "radius = np.linspace(r0, r1, nr)"
   ]
  },
  {
   "cell_type": "code",
   "execution_count": null,
   "metadata": {},
   "outputs": [],
   "source": [
    "def fg(r):\n",
    "    return np.where((1 + 1./16. <= r) & (r <= 3 - 1./16.),\n",
    "                    1.,\n",
    "                    0.5 * (1. + np.sin(16 * np.pi * (r - 1./32.)))\n",
    "                   )"
   ]
  },
  {
   "cell_type": "code",
   "execution_count": null,
   "metadata": {},
   "outputs": [],
   "source": [
    "def eta1(r):\n",
    "    return np.where((2. - 1./16. <= r) & (r <= 2. + 1./16.),\n",
    "                    0.5 * (1. + np.sin(8. * np.pi * r)),\n",
    "                    np.where(r > 2. + 1./16.,\n",
    "                             1., 0.))"
   ]
  },
  {
   "cell_type": "code",
   "execution_count": null,
   "metadata": {},
   "outputs": [],
   "source": [
    "def dlnpdlnrho(r):\n",
    "    y0 = 5. / 3.\n",
    "    y1 = 1.3\n",
    "    return np.where((2. - 1./16. <= r) & (r <= 2. + 1./16.),\n",
    "                    y0 + eta1(r) * (y1 - y0),\n",
    "                    np.where(r > 2. + 1./16,\n",
    "                             y1, y0))"
   ]
  },
  {
   "cell_type": "code",
   "execution_count": null,
   "metadata": {},
   "outputs": [],
   "source": [
    "def eos(rho, T, mu):\n",
    "    return gasconst * rho * T / mu"
   ]
  },
  {
   "cell_type": "code",
   "execution_count": null,
   "metadata": {},
   "outputs": [],
   "source": [
    "grav = g0 * fg(radius) * radius**(-5./4.)"
   ]
  },
  {
   "cell_type": "code",
   "execution_count": null,
   "metadata": {},
   "outputs": [],
   "source": [
    "def heating(r):\n",
    "    return np.where(r < 1. + 1./8.,\n",
    "                    q0 * np.sin(8. * np.pi * r),\n",
    "                    0.)"
   ]
  },
  {
   "cell_type": "code",
   "execution_count": null,
   "metadata": {},
   "outputs": [],
   "source": [
    "r, g, fv, rho, pres = np.loadtxt('setup-two-layers.in',\n",
    "                                 skiprows=1, unpack=True)"
   ]
  },
  {
   "cell_type": "code",
   "execution_count": null,
   "metadata": {},
   "outputs": [],
   "source": [
    "mu0 = 1.848\n",
    "mu1 = 1.802\n",
    "mu = (1. - fv)*mu0 + fv*mu1"
   ]
  },
  {
   "cell_type": "code",
   "execution_count": null,
   "metadata": {},
   "outputs": [],
   "source": [
    "temp = pres * ref_pres / (gasconst * rho * ref_density) * mu\n",
    "gamma = 5./3.\n",
    "cp = gasconst * gamma / (gamma -1)"
   ]
  },
  {
   "cell_type": "code",
   "execution_count": null,
   "metadata": {},
   "outputs": [],
   "source": [
    "plot(r,temp)"
   ]
  },
  {
   "cell_type": "code",
   "execution_count": null,
   "metadata": {},
   "outputs": [],
   "source": [
    "density = rho * ref_density\n",
    "temperature = temp\n",
    "grav = g * ref_grav\n",
    "buoy = density * grav / cp\n",
    "nu = np.ones_like(r)\n",
    "kappa = np.ones_like(r)\n",
    "eta = np.ones_like(r)\n",
    "hprofile = heating(r)\n",
    "dsdr = (cp / (gamma * temperature) *\n",
    "        (np.gradient(temperature, r) -\n",
    "         (gamma - 1) * temperature * np.gradient(np.log(density), r))\n",
    "       )"
   ]
  },
  {
   "cell_type": "code",
   "execution_count": null,
   "metadata": {},
   "outputs": [],
   "source": [
    "temperature"
   ]
  },
  {
   "cell_type": "code",
   "execution_count": null,
   "metadata": {},
   "outputs": [],
   "source": [
    "plot(r,dsdr)"
   ]
  },
  {
   "cell_type": "code",
   "execution_count": null,
   "metadata": {},
   "outputs": [],
   "source": [
    "m = mr.model()\n",
    "m.r = r * length\n",
    "m.grav = grav\n",
    "m.rho = density\n",
    "m.T = temperature\n",
    "m.P = pres * ref_pres\n",
    "m.eos_mode = ('gas',)\n",
    "m.Zbar = np.zeros_like(m.r)\n",
    "m.Abar = np.ones_like(m.r) * mu"
   ]
  },
  {
   "cell_type": "code",
   "execution_count": null,
   "metadata": {},
   "outputs": [],
   "source": [
    "plot(m.r, m.brunt(schwarzschild=False))\n",
    "plot(m.r, m.brunt(schwarzschild=True))"
   ]
  },
  {
   "cell_type": "code",
   "execution_count": null,
   "metadata": {},
   "outputs": [],
   "source": [
    "plot(m.hystat(rotation=False)[1000:-1000])"
   ]
  },
  {
   "cell_type": "code",
   "execution_count": null,
   "metadata": {},
   "outputs": [],
   "source": [
    "my_ref = rt.equation_coefficients(r)\n",
    "\n",
    "my_ref.density = density\n",
    "my_ref.buoy = buoy\n",
    "my_ref.buoy_fact = 1.0\n",
    "\n",
    "# There are all normalized to 1.\n",
    "# They can be adjusted with the corresponding factors.\n",
    "my_ref.nu = nu\n",
    "my_ref.kappa = kappa\n",
    "my_ref.eta = eta\n",
    "\n",
    "my_ref.visc_fact = 1e12\n",
    "my_ref.diff_fact = 1e12\n",
    "my_ref.resist_fact = 1e12\n",
    "\n",
    "my_ref.temperature = temperature\n",
    "my_ref.p_fact = 1.0\n",
    "my_ref.ds_dr = dsdr\n",
    "my_ref.lorentz_fact = 0.25/np.pi\n",
    "\n",
    "my_ref.heating = hprofile\n",
    "# This can be overridden to boost the luminosity.\n",
    "my_ref.luminosity = 1.0"
   ]
  },
  {
   "cell_type": "code",
   "execution_count": null,
   "metadata": {},
   "outputs": [],
   "source": [
    "file_write='cref_code_comp.dat'\n",
    "my_ref.write(file_write)"
   ]
  },
  {
   "cell_type": "code",
   "execution_count": null,
   "metadata": {},
   "outputs": [],
   "source": []
  }
 ],
 "metadata": {
  "kernelspec": {
   "display_name": "Python 3",
   "language": "python",
   "name": "python3"
  },
  "language_info": {
   "codemirror_mode": {
    "name": "ipython",
    "version": 3
   },
   "file_extension": ".py",
   "mimetype": "text/x-python",
   "name": "python",
   "nbconvert_exporter": "python",
   "pygments_lexer": "ipython3",
   "version": "3.8.8"
  }
 },
 "nbformat": 4,
 "nbformat_minor": 4
}
