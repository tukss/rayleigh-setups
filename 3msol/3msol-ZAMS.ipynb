{
 "cells": [
  {
   "cell_type": "code",
   "execution_count": null,
   "metadata": {},
   "outputs": [],
   "source": [
    "%pylab inline\n",
    "import scipy.interpolate as spi\n",
    "import scipy.integrate as spint\n",
    "import scipy.signal as spsig\n",
    "import sys, os\n",
    "\n",
    "sys.path.insert(0, os.path.abspath('../Rayleigh'))\n",
    "\n",
    "import post_processing.rayleigh_diagnostics as rd\n",
    "import post_processing.reference_tools as rt\n",
    "import stelo.model_reader as mr"
   ]
  },
  {
   "cell_type": "code",
   "execution_count": null,
   "metadata": {},
   "outputs": [],
   "source": [
    "rcParams['figure.dpi'] = 200"
   ]
  },
  {
   "cell_type": "code",
   "execution_count": null,
   "metadata": {},
   "outputs": [],
   "source": [
    "def interp(r, v):\n",
    "    prad = p.rmid[::-1] * mesa.rsol\n",
    "    #You can also use 10**p.logR[::-1] or p.radius[::-1] instead of rmid[::-1], but rmid is the most accurate choice\n",
    "    return np.interp(r, prad, v[::-1])"
   ]
  },
  {
   "cell_type": "code",
   "execution_count": null,
   "metadata": {},
   "outputs": [],
   "source": [
    "p = mr.mesa_model('model.prof')"
   ]
  },
  {
   "cell_type": "code",
   "execution_count": null,
   "metadata": {},
   "outputs": [],
   "source": [
    "R = p.r[-1]"
   ]
  },
  {
   "cell_type": "code",
   "execution_count": null,
   "metadata": {},
   "outputs": [],
   "source": [
    "nr = 10000\n",
    "r0 = 0.02 * R # in cm\n",
    "r1 = 0.9 * R # in cm\n",
    "rconv = p.r[np.nonzero(p.brunt() < 0)[0][0]] # in cm\n",
    "radius = np.linspace(r0, r1, nr)"
   ]
  },
  {
   "cell_type": "code",
   "execution_count": null,
   "metadata": {},
   "outputs": [],
   "source": [
    "print(f\"{r0:.5e}, {rconv: .5e}, {r1:.5e}\")"
   ]
  },
  {
   "cell_type": "code",
   "execution_count": null,
   "metadata": {},
   "outputs": [],
   "source": [
    "r_MESA = p.r\n",
    "density = p.intp.rho(radius)\n",
    "temperature = p.intp.T(radius)\n",
    "grav = p.intp.grav(radius)\n",
    "cp = p.intp.cp(radius)\n",
    "buoy = density * grav / cp\n",
    "nu = np.ones_like(radius)\n",
    "kappa = density**-0.5\n",
    "eta = np.ones_like(radius)\n",
    "hprofile = np.zeros_like(radius)\n",
    "#N2 = p.intp.brunt(radius)\n",
    "# use the value from MESA instead of the computed one\n",
    "p.N2 = p.orig_data('brunt_N2')\n",
    "N2 = p.intp.N2(radius)\n",
    "dsdr = cp * N2 / grav"
   ]
  },
  {
   "cell_type": "code",
   "execution_count": null,
   "metadata": {},
   "outputs": [],
   "source": [
    "plot(radius, kappa*1e12)\n",
    "yscale('log')"
   ]
  },
  {
   "cell_type": "code",
   "execution_count": null,
   "metadata": {},
   "outputs": [],
   "source": [
    "nu = (8e11 + (np.tanh((radius - 0.9 * radius[-1]) / (0.05 * radius[-1])) + 1) * 0.5e12) / 1e12\n",
    "kappa = eta = nu"
   ]
  },
  {
   "cell_type": "code",
   "execution_count": null,
   "metadata": {},
   "outputs": [],
   "source": [
    "hprofile = np.gradient(p.orig_data('conv_L_div_L') * p.luminosity, p.r) / (4 * np.pi * p.r**2)\n",
    "hprofile = mr.interpolfuncs['linear'](p.r, hprofile)(radius)\n",
    "hprofile_smooth = mr.h.smooth_data(hprofile, window_len=200)"
   ]
  },
  {
   "cell_type": "code",
   "execution_count": null,
   "metadata": {},
   "outputs": [],
   "source": [
    "plt.plot(radius, hprofile)\n",
    "plt.plot(radius, hprofile_smooth)\n",
    "xlim(0., 2e10)"
   ]
  },
  {
   "cell_type": "code",
   "execution_count": null,
   "metadata": {},
   "outputs": [],
   "source": [
    "my_ref = rt.equation_coefficients(radius)\n",
    "\n",
    "my_ref.density = density\n",
    "my_ref.buoy = buoy\n",
    "my_ref.buoy_fact = 1.0\n",
    "\n",
    "# There are all normalized to 1.\n",
    "# They can be adjusted with the corresponding factors.\n",
    "my_ref.nu = nu\n",
    "my_ref.kappa = kappa\n",
    "my_ref.eta = eta\n",
    "\n",
    "my_ref.visc_fact = 1e12\n",
    "my_ref.diff_fact = 1e12\n",
    "my_ref.resist_fact = 1e12\n",
    "\n",
    "my_ref.temperature = temperature\n",
    "my_ref.p_fact = 1.0\n",
    "my_ref.ds_dr = dsdr\n",
    "my_ref.lorentz_fact = 0.25/np.pi\n",
    "\n",
    "my_ref.heating = hprofile\n",
    "# This can be overridden to boost the luminosity.\n",
    "my_ref.luminosity = 1.0"
   ]
  },
  {
   "cell_type": "code",
   "execution_count": null,
   "metadata": {},
   "outputs": [],
   "source": [
    "file_write='cref_from_MESA.dat'\n",
    "my_ref.write(file_write)"
   ]
  },
  {
   "cell_type": "code",
   "execution_count": null,
   "metadata": {},
   "outputs": [],
   "source": [
    "ma = p.r < rconv\n",
    "vrms = np.sum(p.vrms[ma] * p.r[ma]**2) / np.sum(p.r[ma]**2)\n",
    "plot(p.r[ma], p.vrms[ma])\n",
    "axhline(vrms)"
   ]
  },
  {
   "cell_type": "code",
   "execution_count": null,
   "metadata": {},
   "outputs": [],
   "source": [
    "vrms"
   ]
  },
  {
   "cell_type": "code",
   "execution_count": null,
   "metadata": {},
   "outputs": [],
   "source": []
  }
 ],
 "metadata": {
  "kernelspec": {
   "display_name": "Python 3",
   "language": "python",
   "name": "python3"
  },
  "language_info": {
   "codemirror_mode": {
    "name": "ipython",
    "version": 3
   },
   "file_extension": ".py",
   "mimetype": "text/x-python",
   "name": "python",
   "nbconvert_exporter": "python",
   "pygments_lexer": "ipython3",
   "version": "3.8.8"
  }
 },
 "nbformat": 4,
 "nbformat_minor": 4
}
